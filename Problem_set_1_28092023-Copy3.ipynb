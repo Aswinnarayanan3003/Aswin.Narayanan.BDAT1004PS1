{
 "cells": [
  {
   "cell_type": "markdown",
   "id": "8aa9b5e2",
   "metadata": {},
   "source": [
    "# QUESTION 1\n",
    "\n",
    "What data type is each of the following?\n",
    "\n",
    "5 -- **Integer**\n",
    "\n",
    "5.0 -- **Float**\n",
    "\n",
    "5 > 1 -- **Boolean**\n",
    "\n",
    "'5'-- **String**\n",
    "\n",
    "5 * 2 -- **Ans - 10 ; \n",
    "           Type : Integer**\n",
    "           \n",
    "'5' * 2 -- **String**\n",
    "\n",
    "'5' + '2' -- **String**\n",
    "\n",
    "5 / 2 -- **Float**\n",
    "\n",
    "5 % 2 -- **Integer**\n",
    "\n",
    "{5, 2, 1} -- **Set**\n",
    "\n",
    "5 == 3 -- **Boolean**\n",
    "\n",
    "Pi (the number) -- **Float**\n"
   ]
  },
  {
   "cell_type": "markdown",
   "id": "13e6dd47",
   "metadata": {},
   "source": [
    "\n",
    "\n",
    "# QUESTION 2\n",
    "\n",
    "Write (and evaluate) python expressions that answer these questions:\n",
    "\n",
    "a. How many letters are there in 'Supercalifragilisticexpialidocious'?\n",
    "\n",
    "b. Does 'Supercalifragilisticexpialidocious' contain 'ice' as a substring?\n",
    "\n",
    "c. Which of the following words is the longest: \n",
    "Supercalifragilisticexpialidocious, Honorificabilitudinitatibus, or \n",
    "Bababadalgharaghtakamminarronnkonn? \n",
    "\n",
    "d. Which composer comes first in the dictionary: 'Berlioz', 'Borodin', 'Brian', \n",
    "'Bartok', 'Bellini', 'Buxtehude', 'Bernstein'. Which one comes last?\n"
   ]
  },
  {
   "cell_type": "code",
   "execution_count": 1,
   "id": "dd3725bd",
   "metadata": {},
   "outputs": [
    {
     "name": "stdout",
     "output_type": "stream",
     "text": [
      "34\n"
     ]
    }
   ],
   "source": [
    "# a. How many letters are there in 'Supercalifragilisticexpialidocious'?\n",
    "\n",
    "charter = 'Supercalifragilisticexpialidocious'\n",
    "#Find the length of the charter to know how many letters are there\n",
    "letter_count = len(charter)\n",
    "print(letter_count)"
   ]
  },
  {
   "cell_type": "code",
   "execution_count": 2,
   "id": "dc042a15",
   "metadata": {},
   "outputs": [
    {
     "name": "stdout",
     "output_type": "stream",
     "text": [
      "'Supercalifragilisticexpialidocious' contains the substring ice'.\n"
     ]
    }
   ],
   "source": [
    "# b. Does 'Supercalifragilisticexpialidocious' contain 'ice' as a substring?\n",
    "\n",
    "character = 'Supercalifragilisticexpialidocious'\n",
    "substring = 'ice'\n",
    "\n",
    "if substring in character :\n",
    "    print(f\"'{character}' contains the substring {substring}'.\")\n",
    "else:\n",
    "    print(f\"'{character}' does not contains the substring {substring}'.\")"
   ]
  },
  {
   "cell_type": "code",
   "execution_count": 4,
   "id": "19daa793",
   "metadata": {},
   "outputs": [
    {
     "name": "stdout",
     "output_type": "stream",
     "text": [
      "The word Supercalifragilisticexpialidocious is the longest.\n"
     ]
    }
   ],
   "source": [
    "# c. Which of the following words is the longest: Supercalifragilisticexpialidocious, Honorificabilitudinitatibus, or Bababadalgharaghtakamminarronnkonn?\n",
    "\n",
    "word1 = \"Supercalifragilisticexpialidocious\"\n",
    "word2 = \"Honorificabilitudinitatibus\"\n",
    "word3 = \"Bababadalgharaghtakamminarronnkonn\"\n",
    "\n",
    "length_word1 = len(word1)\n",
    "length_word2 = len(word2)\n",
    "length_word3 = len(word3)\n",
    "\n",
    "if length_word1 >= length_word2 and length_word1 >= length_word3:\n",
    "    print(\"The word\",word1 , \"is the longest.\")\n",
    "\n",
    "elif length_word2 >= length_word1 and length_word2 >= length_word3:\n",
    "    print(\"The word\",word2 , \"is the longest.\")\n",
    "\n",
    "else:\n",
    "    print(\"The word\",word3 , \"is the longest.\")"
   ]
  },
  {
   "cell_type": "code",
   "execution_count": 6,
   "id": "dcc7b35d",
   "metadata": {},
   "outputs": [
    {
     "name": "stdout",
     "output_type": "stream",
     "text": [
      "First composer: Bartok\n",
      "Last composer: Buxtehude\n"
     ]
    }
   ],
   "source": [
    "# d. Which composer comes first in the dictionary: 'Berlioz', 'Borodin', 'Brian', 'Bartok', 'Bellini', 'Buxtehude', 'Bernstein'. Which one comes last?\n",
    "\n",
    "composers = {'Berlioz', 'Borodin', 'Brian', 'Bartok', 'Bellini', 'Buxtehude', 'Bernstein'}\n",
    "\n",
    "finding_first_composer = min(composers)\n",
    "finding_last_composer = max(composers)\n",
    "\n",
    "print(\"First composer:\", finding_first_composer)\n",
    "print(\"Last composer:\", finding_last_composer)\n"
   ]
  },
  {
   "cell_type": "markdown",
   "id": "39e31689",
   "metadata": {},
   "source": [
    "# QUESTION 3\n",
    "\n",
    "Implement function triangleArea(a,b,c) that takes as input the lengths of the 3\n",
    "sides of a triangle and returns the area of the triangle. By Heron's formula, the area \n",
    "of a triangle with side lengths a, b, and c is\n",
    "square root of s(s - a)(s -b)(s -c)\n",
    ", where \n",
    "s = (a+b+c)/2. \n",
    ">>> triangleArea(2,2,2)\n",
    "1.7320508075688772"
   ]
  },
  {
   "cell_type": "code",
   "execution_count": 7,
   "id": "b0afd402",
   "metadata": {},
   "outputs": [
    {
     "name": "stdout",
     "output_type": "stream",
     "text": [
      "1.7320508075688772\n"
     ]
    }
   ],
   "source": [
    "def triangleArea(a, b, c):\n",
    "    \n",
    "    s = (a + b + c) / 2\n",
    "\n",
    "    # The Area of Triangle using Heron's formula\n",
    "    area = (s * (s - a) * (s - b) * (s - c)) ** 0.5\n",
    "\n",
    "    return area\n",
    "\n",
    "\n",
    "final_result = triangleArea(2, 2, 2)\n",
    "print(final_result)"
   ]
  },
  {
   "cell_type": "markdown",
   "id": "e1266067",
   "metadata": {},
   "source": [
    "\n",
    "# QUESTION 4\n",
    "\n",
    "Write a program in python to separate odd and even integers in separate arrays. Go \n",
    "to the editor\n",
    "Test Data :\n",
    "Input the number of elements to be stored in the array :5\n",
    "Input 5 elements in the array :\n",
    "element - 0 : 25\n",
    "element - 1 : 47\n",
    "element - 2 : 42\n",
    "element - 3 : 56\n",
    "element - 4 : 32\n",
    "Expected Output:\n",
    "The Even elements are:\n",
    "42 56 32\n",
    "The Odd elements are :\n",
    "25 47"
   ]
  },
  {
   "cell_type": "code",
   "execution_count": 3,
   "id": "e461a4a7",
   "metadata": {},
   "outputs": [
    {
     "name": "stdout",
     "output_type": "stream",
     "text": [
      "Number of elements to be stored in the array: 4\n",
      "Enter the number : 51\n",
      "Enter the number : 42\n",
      "Enter the number : 7\n",
      "Enter the number : 26\n",
      "The Even elements are: [42, 26]\n",
      "The Odd elements are: [51, 7]\n"
     ]
    }
   ],
   "source": [
    "num_elements = int(input(\"Number of elements to be stored in the array: \"))\n",
    "\n",
    "# creating two list one for odd and another for even\n",
    "even_numbers_to_be_stored = []\n",
    "odd_numbers_to_be_stored = []\n",
    "\n",
    "# Input elements into the array and categorize them\n",
    "for i in range(num_elements):\n",
    "    element = int(input(\"Enter the number : \"))\n",
    "    if element % 2 == 0:\n",
    "        even_numbers_to_be_stored.append(element)\n",
    "    else:\n",
    "        odd_numbers_to_be_stored.append(element)\n",
    "\n",
    "# Print the even and odd elements\n",
    "print(\"The Even elements are:\", even_numbers_to_be_stored)\n",
    "\n",
    "\n",
    "print(\"The Odd elements are:\", odd_numbers_to_be_stored)\n"
   ]
  },
  {
   "cell_type": "markdown",
   "id": "f2c6810d",
   "metadata": {},
   "source": [
    "\n",
    "# QUESTION 5\n",
    "\n",
    "**a**. Write a function inside(x,y,x1,y1,x2,y2) that returns True or False \n",
    "depending on whether the point (x,y) lies in the rectangle with lower left \n",
    "corner (x1,y1) and upper right corner (x2,y2).\n",
    ">>> inside(1,1,0,0,2,3)\n",
    "True\n",
    ">>> inside(-1,-1,0,0,2,3)\n",
    "False"
   ]
  },
  {
   "cell_type": "code",
   "execution_count": 4,
   "id": "7de333c3",
   "metadata": {},
   "outputs": [
    {
     "name": "stdout",
     "output_type": "stream",
     "text": [
      "True\n",
      "False\n"
     ]
    }
   ],
   "source": [
    "def inside(x, y, x1, y1, x2, y2):\n",
    "    if x1 <= x <= x2 and y1 <= y <= y2:\n",
    "        return True\n",
    "    else:\n",
    "        return False\n",
    "\n",
    "print(inside(1, 1, 0, 0, 2, 3)) \n",
    "print(inside(-1, -1, 0, 0, 2, 3))"
   ]
  },
  {
   "cell_type": "markdown",
   "id": "c57464b0",
   "metadata": {},
   "source": [
    "\n",
    "\n",
    "**b**. Use function inside() from part a. to write an expression that tests whether \n",
    "the point (1,1) lies in both of the following rectangles: one with lower left \n",
    "corner (0.3, 0.5) and upper right corner (1.1, 0.7) and the other with lower \n",
    "left corner (0.5, 0.2) and upper right corner (1.1, 2)."
   ]
  },
  {
   "cell_type": "code",
   "execution_count": 5,
   "id": "a40bd64b",
   "metadata": {},
   "outputs": [
    {
     "name": "stdout",
     "output_type": "stream",
     "text": [
      "False\n"
     ]
    }
   ],
   "source": [
    "def inside_partb(x, y, x1, y1, x2, y2):\n",
    "    if x1 <= x <= x2 and y1 <= y <= y2:\n",
    "        return True\n",
    "    else:\n",
    "        return False\n",
    "        \n",
    "print(inside_partb(1, 1, 0.3, 0.5, 1.1, 0.7) and\n",
    "inside_partb(1, 1, 0.5, 0.2, 1.1, 2))"
   ]
  },
  {
   "cell_type": "markdown",
   "id": "4f19fa2a",
   "metadata": {},
   "source": [
    "# QUESTION 6\n",
    "\n",
    "You can turn a word into pig-Latin using the following two rules (simplified):\n",
    "• If the word starts with a consonant, move that letter to the end and append \n",
    "'ay'. For example, 'happy' becomes 'appyhay' and 'pencil' becomes 'encilpay'.\n",
    "• If the word starts with a vowel, simply append 'way' to the end of the word. \n",
    "For example, 'enter' becomes 'enterway' and 'other' becomes 'otherway' . For \n",
    "our purposes, there are 5 vowels: a, e, i, o, u (so we count y as a consonant).\n",
    "Write a function pig() that takes a word (i.e., a string) as input and returns its pig\u0002Latin form. Your function should still work if the input word contains upper case \n",
    "characters. Your output should always be lower case however. \n",
    ">>> pig('happy')\n",
    "'appyhay'\n",
    ">>> pig('Enter')\n",
    "'enterway'"
   ]
  },
  {
   "cell_type": "code",
   "execution_count": 7,
   "id": "1118dff6",
   "metadata": {},
   "outputs": [
    {
     "name": "stdout",
     "output_type": "stream",
     "text": [
      "Enter a word :HAPPY\n",
      "Enter another word : PENCIL\n",
      "appyhay\n",
      "encilpay\n"
     ]
    }
   ],
   "source": [
    "def pig(word):\n",
    "    x = ['a','e','i','o','u']\n",
    "    if word[0] in x:\n",
    "        word = word + 'way'\n",
    "    else:\n",
    "        word = word[1:] + word[0] + 'ay'\n",
    "    return word\n",
    "\n",
    "word1 = input(\"Enter a word :\")\n",
    "word1 = word1.lower()\n",
    "word2 = input(\"Enter another word : \")\n",
    "word2 = word2.lower()\n",
    "print(pig(word1))\n",
    "print(pig(word2))"
   ]
  },
  {
   "cell_type": "markdown",
   "id": "4125dfac",
   "metadata": {},
   "source": [
    "# QUESTION 7\n",
    "\n",
    "File bloodtype1.txt records blood-types of patients (A, B, AB, O or OO) at a clinic. \n",
    "Write a function bldcount() that reads the file with name name and reports (i.e., \n",
    "prints) how many patients there are in each bloodtype.\n",
    ">>> bldcount('bloodtype.txt')\n",
    "There are 10 patients of blood type A.\n",
    "There is one patient of blood type B.\n",
    "There are 10 patients of blood type AB.\n",
    "There are 12 patients of blood type O.\n",
    "There are no patients of blood type OO."
   ]
  },
  {
   "cell_type": "code",
   "execution_count": 5,
   "id": "b19ef79f",
   "metadata": {},
   "outputs": [
    {
     "name": "stdout",
     "output_type": "stream",
     "text": [
      "There are 0 patients of blood type A.\n",
      "There are 0 patients of blood type B.\n",
      "There are 0 patients of blood type AB.\n",
      "There are 0 patients of blood type O.\n",
      "There are 0 patients of blood type OO.\n"
     ]
    }
   ],
   "source": [
    "import os\n",
    "\n",
    "def bldcount(filename):\n",
    "    blood_count_types = {'A': 0, 'B': 0, 'AB': 0, 'O': 0, 'OO': 0}\n",
    "\n",
    "    with open(filename, 'r') as file:\n",
    "        for line in file:\n",
    "            blood_type = line.strip()\n",
    "            blood_count_types[blood_type] += 1\n",
    "\n",
    "    for blood_type, count in blood_count_types.items():\n",
    "        if count == 1:\n",
    "            print(f\"There is one patient of blood type {blood_type}.\")\n",
    "        else:\n",
    "            print(f\"There are {count} patients of blood type {blood_type}.\")\n",
    "\n",
    "\n",
    "bldcount('bloodtype.txt')"
   ]
  },
  {
   "cell_type": "markdown",
   "id": "2a238e05",
   "metadata": {},
   "source": [
    "# QUESTION 8\n",
    "\n",
    "Write a function curconv() that takes as input:\n",
    "1. a currency represented using a string (e.g., 'JPY' for the Japanese Yen or \n",
    "'EUR' for the Euro)\n",
    "2. an amount\n",
    "and then converts and returns the amount in US dollars.\n",
    ">>> curconv('EUR', 100)\n",
    "122.96544\n",
    ">>> curconv('JPY', 100)\n",
    "1.241401"
   ]
  },
  {
   "cell_type": "code",
   "execution_count": 9,
   "id": "3f6f7ed8",
   "metadata": {},
   "outputs": [
    {
     "name": "stdout",
     "output_type": "stream",
     "text": [
      "122.96544\n",
      "1.241401\n"
     ]
    }
   ],
   "source": [
    "def curconv(currency, amount):\n",
    "    with open('currencies.txt', 'r') as file:\n",
    "        for content in file:\n",
    "            x = content.strip().split()\n",
    "            if x[0] == currency:\n",
    "                rate_currency = float(x[1])\n",
    "                us_dollars = amount * rate_currency\n",
    "                return us_dollars\n",
    "    return None\n",
    "\n",
    "print(curconv('EUR', 100))  \n",
    "print(curconv('JPY', 100)) "
   ]
  },
  {
   "cell_type": "markdown",
   "id": "0ace67c9",
   "metadata": {},
   "source": [
    "# QUESTION 9\n",
    "\n",
    "Each of the following will cause an exception (an error). Identify what type of \n",
    "exception each will cause.\n",
    "\n",
    "Trying to add incompatible variables, as in \n",
    "adding 6 + ‘a’\n",
    "\n",
    "Referring to the 12th item of a list that has only 10 \n",
    "items\n",
    "\n",
    "Using a value that is out of range for a function’s \n",
    "input, such as calling math.sqrt(-1.0)\n",
    "\n",
    "Using an undeclared variable, such as print(x)\n",
    "when x has not been defined \n",
    "\n",
    "Trying to open a file that does not exist, such as \n",
    "mistyping the file name or looking in the wrong \n",
    "directory."
   ]
  },
  {
   "cell_type": "code",
   "execution_count": 9,
   "id": "37c3d9a2",
   "metadata": {},
   "outputs": [
    {
     "name": "stdout",
     "output_type": "stream",
     "text": [
      "The name of the error occurred is : TypeError\n"
     ]
    }
   ],
   "source": [
    "# Trying to add incompatible variables, as in adding 6 + ‘a’.\n",
    "\n",
    "try:\n",
    "    X = 6 + 'a'\n",
    "except Exception as exception:\n",
    "    print(\"The name of the error occurred is :\", type(exception).__name__)"
   ]
  },
  {
   "cell_type": "code",
   "execution_count": 10,
   "id": "57a938ad",
   "metadata": {},
   "outputs": [
    {
     "name": "stdout",
     "output_type": "stream",
     "text": [
      "The name of the error occurred is : IndexError\n"
     ]
    }
   ],
   "source": [
    "# Referring to the 12th item of a list that has only 10 items\n",
    "\n",
    "try:\n",
    "    list = [1,2,3,4,5,6,7,8,9,10]\n",
    "    getting_items_from_list = list[12]\n",
    "except Exception as exception:\n",
    "    print(\"The name of the error occurred is :\", type(exception).__name__)\n",
    "    "
   ]
  },
  {
   "cell_type": "code",
   "execution_count": 11,
   "id": "a2af790c",
   "metadata": {},
   "outputs": [
    {
     "name": "stdout",
     "output_type": "stream",
     "text": [
      "The name of the error occurred is : ValueError\n"
     ]
    }
   ],
   "source": [
    "import math\n",
    "\n",
    "try:\n",
    "    final_result =  math.sqrt(-1.0)\n",
    "except Exception as exception:\n",
    "    print(\"The name of the error occurred is :\", type(exception).__name__)   "
   ]
  },
  {
   "cell_type": "code",
   "execution_count": 12,
   "id": "28126eec",
   "metadata": {},
   "outputs": [
    {
     "name": "stdout",
     "output_type": "stream",
     "text": [
      "The name of the error occurred is : NameError\n"
     ]
    }
   ],
   "source": [
    "try:\n",
    "    print(x)\n",
    "except Exception as exception:\n",
    "    print(\"The name of the error occurred is :\", type(exception).__name__)  "
   ]
  },
  {
   "cell_type": "code",
   "execution_count": 5,
   "id": "ffc5c147",
   "metadata": {},
   "outputs": [
    {
     "name": "stdout",
     "output_type": "stream",
     "text": [
      "An error occurred: FileNotFoundError\n"
     ]
    }
   ],
   "source": [
    "try:\n",
    "    file = open(\"fakefile.txt\", \"r\")\n",
    "except Exception as exception:\n",
    "    print(\"An error occurred:\", type(exception).__name__)"
   ]
  },
  {
   "cell_type": "markdown",
   "id": "14f21d6d",
   "metadata": {},
   "source": [
    "I reffered this link for this question : https://stackoverflow.com/questions/18176602/how-to-get-the-name-of-an-exception-that-was-caught-in-python"
   ]
  },
  {
   "cell_type": "markdown",
   "id": "adc10fa9",
   "metadata": {},
   "source": [
    "# QUESTION 10\n",
    "\n",
    "Encryption is the process of hiding the meaning of a text by substituting letters in the \n",
    "message with other letters, according to some system. If the process is successful, no \n",
    "one but the intended recipient can understand the encrypted message. Cryptanalysis\n",
    "refers to attempts to undo the encryption, even if some details of the encryption are \n",
    "unknown (for example, if an encrypted message has been intercepted). The first step \n",
    "of cryptanalysis is often to build up a table of letter frequencies in the encrypted text. \n",
    "Assume that the string letters is already defined as \n",
    "'abcdefghijklmnopqrstuvwxyz'. Write a function called frequencies()\n",
    "that takes a string as its only parameter, and returns a list of integers, showing the \n",
    "number of times each character appears in the text. Your function may ignore any \n",
    "characters that are not in letters. \n",
    ">>> frequencies('The quick red fox got bored and went home.')\n",
    "[1, 1, 1, 3, 5, 1, 1, 2, 1, 0, 1, 0, 1, 2, 4, 0, 1, 2, 0, 2, \n",
    "1, 0, 1, 1, 0, 0]\n",
    ">>> frequencies('apple')"
   ]
  },
  {
   "cell_type": "code",
   "execution_count": 6,
   "id": "728c6fb1",
   "metadata": {},
   "outputs": [
    {
     "name": "stdout",
     "output_type": "stream",
     "text": [
      "[1, 0, 0, 0, 1, 0, 0, 0, 0, 0, 0, 1, 0, 0, 0, 2, 0, 0, 0, 0, 0, 0, 0, 0, 0, 0]\n",
      "[1, 1, 1, 3, 5, 1, 1, 2, 1, 0, 1, 0, 1, 2, 4, 0, 1, 2, 0, 2, 1, 0, 1, 1, 0, 0]\n"
     ]
    }
   ],
   "source": [
    "def frequencies(string):\n",
    "    string_letters = 'abcdefghijklmnopqrstuvwxyz'\n",
    "    frequency = []\n",
    "    for letter in string_letters:\n",
    "        frequency.append(string.count(letter))\n",
    "    return frequency\n",
    "\n",
    "print(frequencies('apple'))\n",
    "print(frequencies('The quick red fox got bored and went home.'))"
   ]
  }
 ],
 "metadata": {
  "kernelspec": {
   "display_name": "Python 3 (ipykernel)",
   "language": "python",
   "name": "python3"
  },
  "language_info": {
   "codemirror_mode": {
    "name": "ipython",
    "version": 3
   },
   "file_extension": ".py",
   "mimetype": "text/x-python",
   "name": "python",
   "nbconvert_exporter": "python",
   "pygments_lexer": "ipython3",
   "version": "3.11.4"
  }
 },
 "nbformat": 4,
 "nbformat_minor": 5
}
